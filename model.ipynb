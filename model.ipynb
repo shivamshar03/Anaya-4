{
 "cells": [
  {
   "cell_type": "code",
   "id": "initial_id",
   "metadata": {
    "collapsed": true,
    "ExecuteTime": {
     "end_time": "2025-07-01T03:56:09.461021Z",
     "start_time": "2025-07-01T03:56:00.484740Z"
    }
   },
   "source": [
    "import pandas as pd\n",
    "import numpy as np\n",
    "import os\n",
    "import librosa\n",
    "import matplotlib.pyplot as plt\n",
    "import seaborn as sns\n",
    "from sklearn.preprocessing import OneHotEncoder, StandardScaler\n",
    "from sklearn.model_selection import train_test_split\n",
    "from sklearn.metrics import confusion_matrix, classification_report\n",
    "from keras.models import Sequential\n",
    "from keras.layers import Conv1D, MaxPooling1D, Dropout, Flatten, Dense\n",
    "from keras.callbacks import ReduceLROnPlateau\n",
    "import warnings\n",
    "\n",
    "warnings.filterwarnings(\"ignore\")\n",
    "\n",
    "# Dataset paths\n",
    "# Paths for data.\n",
    "Ravdess = \"C:\\\\Users\\\\Anuj Chouhan\\\\PycharmProjects\\\\PythonP-3\\\\datasets\\\\uwrfkaggler\\\\ravdess-emotional-speech-audio\\\\versions\\\\1\\\\audio_speech_actors_01-24\"\n",
    "Crema = \"C:\\\\Users\\\\Anuj Chouhan\\\\PycharmProjects\\\\PythonP-3\\\\datasets\\\\ejlok1\\\\cremad\\\\versions\\\\1\\\\AudioWAV\"\n",
    "Tess = \"C:\\\\Users\\\\Anuj Chouhan\\\\PycharmProjects\\\\PythonP-3\\\\datasets\\ejlok1\\\\toronto-emotional-speech-set-tess\\\\versions\\\\1\\\\TESS Toronto emotional speech set data\\\\TESS Toronto emotional speech set data\"\n",
    "Savee = \"C:\\\\Users\\\\Anuj Chouhan\\\\PycharmProjects\\\\PythonP-3\\\\datasets\\\\ejlok1\\\\surrey-audiovisual-expressed-emotion-savee\\\\versions\\\\1\\\\ALL\"\n"
   ],
   "outputs": [],
   "execution_count": 1
  },
  {
   "metadata": {
    "ExecuteTime": {
     "end_time": "2025-07-01T03:56:22.642631Z",
     "start_time": "2025-07-01T03:56:22.433329Z"
    }
   },
   "cell_type": "code",
   "source": [
    "\n",
    "# Function to load Ravdess dataset\n",
    "def load_ravdess(path):\n",
    "    data = []\n",
    "    for dir in os.listdir(path):\n",
    "        dir_path = os.path.join(path, dir)\n",
    "        if not os.path.isdir(dir_path):\n",
    "            continue\n",
    "        for file in os.listdir(dir_path):\n",
    "            if not file.endswith(\".wav\"):\n",
    "                continue\n",
    "            emotion = int(file.split(\"-\")[2])\n",
    "            label = {1: 'neutral', 2: 'calm', 3: 'happy', 4: 'sad', 5: 'angry', 6: 'fear', 7: 'disgust', 8: 'surprise'}.get(emotion)\n",
    "            data.append([label, os.path.join(dir_path, file)])\n",
    "    return pd.DataFrame(data, columns=[\"Emotions\", \"Path\"])\n",
    "\n",
    "# Function to load Crema dataset\n",
    "def load_crema(path):\n",
    "    data = []\n",
    "    for file in os.listdir(path):\n",
    "        if not file.endswith(\".wav\"):\n",
    "            continue\n",
    "        emotion = file.split('_')[2]\n",
    "        label = {'SAD': 'sad', 'ANG': 'angry', 'DIS': 'disgust', 'FEA': 'fear', 'HAP': 'happy', 'NEU': 'neutral'}.get(emotion, 'unknown')\n",
    "        data.append([label, os.path.join(path, file)])\n",
    "    return pd.DataFrame(data, columns=[\"Emotions\", \"Path\"])\n",
    "\n",
    "# Function to load Tess dataset\n",
    "def load_tess(path):\n",
    "    data = []\n",
    "    for folder in os.listdir(path):\n",
    "        folder_path = os.path.join(path, folder)\n",
    "        if not os.path.isdir(folder_path):\n",
    "            continue\n",
    "        for file in os.listdir(folder_path):\n",
    "            if not file.endswith(\".wav\"):\n",
    "                continue\n",
    "            emotion = file.split(\"_\")[-1].split(\".\")[0].lower()\n",
    "            emotion = 'surprise' if emotion == 'ps' else emotion\n",
    "            data.append([emotion, os.path.join(folder_path, file)])\n",
    "    return pd.DataFrame(data, columns=[\"Emotions\", \"Path\"])\n",
    "\n",
    "# Function to load Savee dataset\n",
    "def load_savee(path):\n",
    "    data = []\n",
    "    for file in os.listdir(path):\n",
    "        if not file.endswith(\".wav\"):\n",
    "            continue\n",
    "        code = file.split(\"_\")[1][:-6]\n",
    "        label = {'a': 'angry', 'd': 'disgust', 'f': 'fear', 'h': 'happy', 'n': 'neutral', 'sa': 'sad'}.get(code, 'surprise')\n",
    "        data.append([label, os.path.join(path, file)])\n",
    "    return pd.DataFrame(data, columns=[\"Emotions\", \"Path\"])\n",
    "\n",
    "# Load and print stats\n",
    "ravdess_df = load_ravdess(Ravdess)\n",
    "crema_df = load_crema(Crema)\n",
    "tess_df = load_tess(Tess)\n",
    "savee_df = load_savee(Savee)\n",
    "\n",
    "print(f\"RAVDESS files loaded: {len(ravdess_df)}\")\n",
    "print(f\"CREMA files loaded: {len(crema_df)}\")\n",
    "print(f\"TESS files loaded: {len(tess_df)}\")\n",
    "print(f\"SAVEE files loaded: {len(savee_df)}\")\n",
    "\n",
    "# Combine datasets\n",
    "data_path = pd.concat([ravdess_df, crema_df, tess_df, savee_df], ignore_index=True)\n",
    "print(f\"Total audio samples collected: {len(data_path)}\")\n"
   ],
   "id": "7d334b34dc99394",
   "outputs": [
    {
     "name": "stdout",
     "output_type": "stream",
     "text": [
      "RAVDESS files loaded: 1440\n",
      "CREMA files loaded: 7442\n",
      "TESS files loaded: 2800\n",
      "SAVEE files loaded: 480\n",
      "Total audio samples collected: 12162\n"
     ]
    }
   ],
   "execution_count": 4
  },
  {
   "metadata": {
    "ExecuteTime": {
     "end_time": "2025-07-01T03:56:55.295779Z",
     "start_time": "2025-07-01T03:56:55.271529Z"
    }
   },
   "cell_type": "code",
   "source": [
    "# Feature Extraction\n",
    "def extract_features(data, sr):\n",
    "    features = []\n",
    "    features.extend(np.mean(librosa.feature.zero_crossing_rate(data).T, axis=0))\n",
    "    stft = np.abs(librosa.stft(data))\n",
    "    features.extend(np.mean(librosa.feature.chroma_stft(S=stft, sr=sr).T, axis=0))\n",
    "    features.extend(np.mean(librosa.feature.mfcc(y=data, sr=sr).T, axis=0))\n",
    "    features.extend(np.mean(librosa.feature.rms(y=data).T, axis=0))\n",
    "    features.extend(np.mean(librosa.feature.melspectrogram(y=data, sr=sr).T, axis=0))\n",
    "    return np.array(features)\n",
    "\n",
    "# Data Augmentation\n",
    "\n"
   ],
   "id": "14b3a374b163bab9",
   "outputs": [],
   "execution_count": 5
  },
  {
   "metadata": {
    "ExecuteTime": {
     "end_time": "2025-07-01T03:56:59.467520Z",
     "start_time": "2025-07-01T03:56:59.450863Z"
    }
   },
   "cell_type": "code",
   "source": [
    "def noise(data):\n",
    "    return data + 0.035 * np.random.uniform() * np.amax(data) * np.random.normal(size=data.shape)\n",
    "\n",
    "def stretch(data, rate=0.8):\n",
    "    return librosa.effects.time_stretch(data, rate)\n",
    "\n",
    "def pitch(data, sr, factor=0.7):\n",
    "    return librosa.effects.pitch_shift(data, sr=sr, n_steps=factor)"
   ],
   "id": "8bbb12a89a9ffbf4",
   "outputs": [],
   "execution_count": 6
  },
  {
   "metadata": {
    "ExecuteTime": {
     "end_time": "2025-07-01T05:09:08.859893Z",
     "start_time": "2025-07-01T03:58:00.093077Z"
    }
   },
   "cell_type": "code",
   "source": [
    "\n",
    "\n",
    "# Build dataset with augmentation\n",
    "X, Y = [], []\n",
    "for path, emotion in zip(data_path.Path, data_path.Emotions):\n",
    "    try:\n",
    "        data, sr = librosa.load(path, duration=2.5, offset=0.6)\n",
    "        for variant in [data, noise(data), pitch(stretch(data), sr)]:\n",
    "            features = extract_features(variant, sr)\n",
    "            if features.shape[0] > 0:\n",
    "                X.append(features)\n",
    "                Y.append(emotion)\n",
    "    except Exception as e:\n",
    "        print(f\"Skipping file {path} due to error: {e}\")\n",
    "        continue\n",
    "\n",
    "print(f\"Total processed feature vectors: {len(X)}\")\n",
    "\n",
    "# Abort if no data found\n",
    "if len(Y) == 0:\n",
    "    raise ValueError(\"No valid audio samples were processed. Please verify dataset paths and formats.\")\n",
    "\n"
   ],
   "id": "b03c3cdd1c194a2d",
   "outputs": [
    {
     "name": "stdout",
     "output_type": "stream",
     "text": [
      "Total processed feature vectors: 36486\n"
     ]
    }
   ],
   "execution_count": 7
  },
  {
   "metadata": {
    "ExecuteTime": {
     "end_time": "2025-07-01T05:10:51.459804Z",
     "start_time": "2025-07-01T05:10:50.445391Z"
    }
   },
   "cell_type": "code",
   "source": [
    "# Encode and split\n",
    "X = np.array(X)\n",
    "encoder = OneHotEncoder()\n",
    "Y = encoder.fit_transform(np.array(Y).reshape(-1, 1)).toarray()\n",
    "\n",
    "x_train, x_test, y_train, y_test = train_test_split(X, Y, test_size=0.2, random_state=42, shuffle=True)\n",
    "scaler = StandardScaler()\n",
    "x_train = scaler.fit_transform(x_train)\n",
    "x_test = scaler.transform(x_test)\n",
    "x_train = np.expand_dims(x_train, axis=2)\n",
    "x_test = np.expand_dims(x_test, axis=2)"
   ],
   "id": "55f1066c28d2e766",
   "outputs": [],
   "execution_count": 8
  },
  {
   "metadata": {
    "ExecuteTime": {
     "end_time": "2025-07-01T05:10:57.635435Z",
     "start_time": "2025-07-01T05:10:56.674211Z"
    }
   },
   "cell_type": "code",
   "source": [
    "# CNN model\n",
    "model = Sequential([\n",
    "    Conv1D(256, 5, activation='relu', padding='same', input_shape=(x_train.shape[1], 1)),\n",
    "    MaxPooling1D(5),\n",
    "    Conv1D(128, 5, activation='relu', padding='same'),\n",
    "    MaxPooling1D(5),\n",
    "    Dropout(0.3),\n",
    "    Conv1D(64, 5, activation='relu', padding='same'),\n",
    "    MaxPooling1D(5),\n",
    "    Flatten(),\n",
    "    Dense(32, activation='relu'),\n",
    "    Dropout(0.3),\n",
    "    Dense(Y.shape[1], activation='softmax')\n",
    "])\n",
    "model.compile(optimizer='adam', loss='categorical_crossentropy', metrics=['accuracy'])\n"
   ],
   "id": "d1f89fe2632a72df",
   "outputs": [],
   "execution_count": 9
  },
  {
   "metadata": {
    "ExecuteTime": {
     "end_time": "2025-07-01T05:44:45.077001Z",
     "start_time": "2025-07-01T05:11:02.740120Z"
    }
   },
   "cell_type": "code",
   "source": [
    "\n",
    "\n",
    "# Train\n",
    "rlrp = ReduceLROnPlateau(monitor='loss', factor=0.4, patience=2, min_lr=1e-7)\n",
    "history = model.fit(x_train, y_train, epochs=50, batch_size=64, validation_data=(x_test, y_test), callbacks=[rlrp])\n"
   ],
   "id": "8fbf6c9eb380ac86",
   "outputs": [
    {
     "name": "stdout",
     "output_type": "stream",
     "text": [
      "Epoch 1/50\n",
      "457/457 [==============================] - 41s 86ms/step - loss: 1.7210 - accuracy: 0.3101 - val_loss: 1.4365 - val_accuracy: 0.4272 - lr: 0.0010\n",
      "Epoch 2/50\n",
      "457/457 [==============================] - 42s 92ms/step - loss: 1.4681 - accuracy: 0.4167 - val_loss: 1.3073 - val_accuracy: 0.4912 - lr: 0.0010\n",
      "Epoch 3/50\n",
      "457/457 [==============================] - 70s 154ms/step - loss: 1.3907 - accuracy: 0.4506 - val_loss: 1.3168 - val_accuracy: 0.4804 - lr: 0.0010\n",
      "Epoch 4/50\n",
      "457/457 [==============================] - 74s 163ms/step - loss: 1.3366 - accuracy: 0.4687 - val_loss: 1.2242 - val_accuracy: 0.5133 - lr: 0.0010\n",
      "Epoch 5/50\n",
      "457/457 [==============================] - 88s 193ms/step - loss: 1.3005 - accuracy: 0.4834 - val_loss: 1.1943 - val_accuracy: 0.5195 - lr: 0.0010\n",
      "Epoch 6/50\n",
      "457/457 [==============================] - 38s 84ms/step - loss: 1.2652 - accuracy: 0.4958 - val_loss: 1.1804 - val_accuracy: 0.5322 - lr: 0.0010\n",
      "Epoch 7/50\n",
      "457/457 [==============================] - 39s 85ms/step - loss: 1.2487 - accuracy: 0.5052 - val_loss: 1.1619 - val_accuracy: 0.5360 - lr: 0.0010\n",
      "Epoch 8/50\n",
      "457/457 [==============================] - 83s 182ms/step - loss: 1.2321 - accuracy: 0.5104 - val_loss: 1.1705 - val_accuracy: 0.5391 - lr: 0.0010\n",
      "Epoch 9/50\n",
      "457/457 [==============================] - 63s 138ms/step - loss: 1.2134 - accuracy: 0.5185 - val_loss: 1.1419 - val_accuracy: 0.5406 - lr: 0.0010\n",
      "Epoch 10/50\n",
      "457/457 [==============================] - 39s 85ms/step - loss: 1.2034 - accuracy: 0.5237 - val_loss: 1.1404 - val_accuracy: 0.5515 - lr: 0.0010\n",
      "Epoch 11/50\n",
      "457/457 [==============================] - 37s 82ms/step - loss: 1.1908 - accuracy: 0.5281 - val_loss: 1.1277 - val_accuracy: 0.5508 - lr: 0.0010\n",
      "Epoch 12/50\n",
      "457/457 [==============================] - 40s 88ms/step - loss: 1.1788 - accuracy: 0.5329 - val_loss: 1.1304 - val_accuracy: 0.5443 - lr: 0.0010\n",
      "Epoch 13/50\n",
      "457/457 [==============================] - 37s 81ms/step - loss: 1.1646 - accuracy: 0.5379 - val_loss: 1.1248 - val_accuracy: 0.5523 - lr: 0.0010\n",
      "Epoch 14/50\n",
      "457/457 [==============================] - 42s 91ms/step - loss: 1.1591 - accuracy: 0.5412 - val_loss: 1.1092 - val_accuracy: 0.5569 - lr: 0.0010\n",
      "Epoch 15/50\n",
      "457/457 [==============================] - 39s 86ms/step - loss: 1.1497 - accuracy: 0.5455 - val_loss: 1.1065 - val_accuracy: 0.5537 - lr: 0.0010\n",
      "Epoch 16/50\n",
      "457/457 [==============================] - 37s 80ms/step - loss: 1.1422 - accuracy: 0.5492 - val_loss: 1.1093 - val_accuracy: 0.5573 - lr: 0.0010\n",
      "Epoch 17/50\n",
      "457/457 [==============================] - 33s 73ms/step - loss: 1.1288 - accuracy: 0.5528 - val_loss: 1.0933 - val_accuracy: 0.5612 - lr: 0.0010\n",
      "Epoch 18/50\n",
      "457/457 [==============================] - 34s 75ms/step - loss: 1.1264 - accuracy: 0.5541 - val_loss: 1.0884 - val_accuracy: 0.5693 - lr: 0.0010\n",
      "Epoch 19/50\n",
      "457/457 [==============================] - 32s 70ms/step - loss: 1.1273 - accuracy: 0.5535 - val_loss: 1.0801 - val_accuracy: 0.5641 - lr: 0.0010\n",
      "Epoch 20/50\n",
      "457/457 [==============================] - 31s 68ms/step - loss: 1.1157 - accuracy: 0.5601 - val_loss: 1.0862 - val_accuracy: 0.5618 - lr: 0.0010\n",
      "Epoch 21/50\n",
      "457/457 [==============================] - 32s 70ms/step - loss: 1.1081 - accuracy: 0.5625 - val_loss: 1.0874 - val_accuracy: 0.5669 - lr: 0.0010\n",
      "Epoch 22/50\n",
      "457/457 [==============================] - 33s 72ms/step - loss: 1.0990 - accuracy: 0.5635 - val_loss: 1.0785 - val_accuracy: 0.5726 - lr: 0.0010\n",
      "Epoch 23/50\n",
      "457/457 [==============================] - 36s 80ms/step - loss: 1.0922 - accuracy: 0.5718 - val_loss: 1.0661 - val_accuracy: 0.5706 - lr: 0.0010\n",
      "Epoch 24/50\n",
      "457/457 [==============================] - 33s 72ms/step - loss: 1.0940 - accuracy: 0.5672 - val_loss: 1.0565 - val_accuracy: 0.5755 - lr: 0.0010\n",
      "Epoch 25/50\n",
      "457/457 [==============================] - 33s 72ms/step - loss: 1.0837 - accuracy: 0.5728 - val_loss: 1.0712 - val_accuracy: 0.5697 - lr: 0.0010\n",
      "Epoch 26/50\n",
      "457/457 [==============================] - 32s 70ms/step - loss: 1.0823 - accuracy: 0.5720 - val_loss: 1.0707 - val_accuracy: 0.5756 - lr: 0.0010\n",
      "Epoch 27/50\n",
      "457/457 [==============================] - 34s 75ms/step - loss: 1.0740 - accuracy: 0.5772 - val_loss: 1.0537 - val_accuracy: 0.5803 - lr: 0.0010\n",
      "Epoch 28/50\n",
      "457/457 [==============================] - 32s 70ms/step - loss: 1.0779 - accuracy: 0.5786 - val_loss: 1.0657 - val_accuracy: 0.5706 - lr: 0.0010\n",
      "Epoch 29/50\n",
      "457/457 [==============================] - 35s 76ms/step - loss: 1.0718 - accuracy: 0.5780 - val_loss: 1.0488 - val_accuracy: 0.5847 - lr: 0.0010\n",
      "Epoch 30/50\n",
      "457/457 [==============================] - 35s 78ms/step - loss: 1.0686 - accuracy: 0.5796 - val_loss: 1.0474 - val_accuracy: 0.5797 - lr: 0.0010\n",
      "Epoch 31/50\n",
      "457/457 [==============================] - 37s 81ms/step - loss: 1.0513 - accuracy: 0.5870 - val_loss: 1.0406 - val_accuracy: 0.5877 - lr: 0.0010\n",
      "Epoch 32/50\n",
      "457/457 [==============================] - 40s 88ms/step - loss: 1.0500 - accuracy: 0.5863 - val_loss: 1.0535 - val_accuracy: 0.5780 - lr: 0.0010\n",
      "Epoch 33/50\n",
      "457/457 [==============================] - 40s 88ms/step - loss: 1.0540 - accuracy: 0.5837 - val_loss: 1.0493 - val_accuracy: 0.5822 - lr: 0.0010\n",
      "Epoch 34/50\n",
      "457/457 [==============================] - 40s 88ms/step - loss: 1.0479 - accuracy: 0.5897 - val_loss: 1.0509 - val_accuracy: 0.5802 - lr: 0.0010\n",
      "Epoch 35/50\n",
      "457/457 [==============================] - 35s 77ms/step - loss: 1.0384 - accuracy: 0.5933 - val_loss: 1.0406 - val_accuracy: 0.5870 - lr: 0.0010\n",
      "Epoch 36/50\n",
      "457/457 [==============================] - 41s 90ms/step - loss: 1.0372 - accuracy: 0.5899 - val_loss: 1.0334 - val_accuracy: 0.5854 - lr: 0.0010\n",
      "Epoch 37/50\n",
      "457/457 [==============================] - 35s 77ms/step - loss: 1.0211 - accuracy: 0.6003 - val_loss: 1.0388 - val_accuracy: 0.5799 - lr: 0.0010\n",
      "Epoch 38/50\n",
      "457/457 [==============================] - 33s 72ms/step - loss: 1.0285 - accuracy: 0.5977 - val_loss: 1.0231 - val_accuracy: 0.5908 - lr: 0.0010\n",
      "Epoch 39/50\n",
      "457/457 [==============================] - 35s 76ms/step - loss: 1.0223 - accuracy: 0.5995 - val_loss: 1.0166 - val_accuracy: 0.5945 - lr: 0.0010\n",
      "Epoch 40/50\n",
      "457/457 [==============================] - 38s 82ms/step - loss: 0.9841 - accuracy: 0.6152 - val_loss: 1.0087 - val_accuracy: 0.5976 - lr: 4.0000e-04\n",
      "Epoch 41/50\n",
      "457/457 [==============================] - 37s 80ms/step - loss: 0.9720 - accuracy: 0.6199 - val_loss: 1.0052 - val_accuracy: 0.5971 - lr: 4.0000e-04\n",
      "Epoch 42/50\n",
      "457/457 [==============================] - 41s 90ms/step - loss: 0.9649 - accuracy: 0.6233 - val_loss: 1.0075 - val_accuracy: 0.6008 - lr: 4.0000e-04\n",
      "Epoch 43/50\n",
      "457/457 [==============================] - 40s 87ms/step - loss: 0.9729 - accuracy: 0.6180 - val_loss: 0.9959 - val_accuracy: 0.5977 - lr: 4.0000e-04\n",
      "Epoch 44/50\n",
      "457/457 [==============================] - 37s 81ms/step - loss: 0.9568 - accuracy: 0.6246 - val_loss: 0.9996 - val_accuracy: 0.5995 - lr: 4.0000e-04\n",
      "Epoch 45/50\n",
      "457/457 [==============================] - 39s 86ms/step - loss: 0.9573 - accuracy: 0.6242 - val_loss: 0.9935 - val_accuracy: 0.6052 - lr: 4.0000e-04\n",
      "Epoch 46/50\n",
      "457/457 [==============================] - 34s 75ms/step - loss: 0.9524 - accuracy: 0.6262 - val_loss: 1.0022 - val_accuracy: 0.6002 - lr: 4.0000e-04\n",
      "Epoch 47/50\n",
      "457/457 [==============================] - 34s 75ms/step - loss: 0.9480 - accuracy: 0.6292 - val_loss: 0.9931 - val_accuracy: 0.6028 - lr: 4.0000e-04\n",
      "Epoch 48/50\n",
      "457/457 [==============================] - 38s 82ms/step - loss: 0.9430 - accuracy: 0.6292 - val_loss: 0.9916 - val_accuracy: 0.6063 - lr: 4.0000e-04\n",
      "Epoch 49/50\n",
      "457/457 [==============================] - 36s 79ms/step - loss: 0.9459 - accuracy: 0.6275 - val_loss: 0.9971 - val_accuracy: 0.6063 - lr: 4.0000e-04\n",
      "Epoch 50/50\n",
      "457/457 [==============================] - 34s 75ms/step - loss: 0.9452 - accuracy: 0.6287 - val_loss: 0.9907 - val_accuracy: 0.6032 - lr: 4.0000e-04\n"
     ]
    }
   ],
   "execution_count": 10
  },
  {
   "metadata": {
    "ExecuteTime": {
     "end_time": "2025-07-01T05:44:54.453587Z",
     "start_time": "2025-07-01T05:44:50.831728Z"
    }
   },
   "cell_type": "code",
   "source": [
    "# Evaluate\n",
    "score = model.evaluate(x_test, y_test)\n",
    "print(f\"Test Accuracy: {score[1]*100:.2f}%\")"
   ],
   "id": "70c400de610c16e2",
   "outputs": [
    {
     "name": "stdout",
     "output_type": "stream",
     "text": [
      "229/229 [==============================] - 3s 14ms/step - loss: 0.9907 - accuracy: 0.6032\n",
      "Test Accuracy: 60.32%\n"
     ]
    }
   ],
   "execution_count": 11
  },
  {
   "metadata": {
    "ExecuteTime": {
     "end_time": "2025-07-01T05:45:00.617977Z",
     "start_time": "2025-07-01T05:45:00.427835Z"
    }
   },
   "cell_type": "code",
   "source": [
    "# Save model\n",
    "model.save(\"emotion_detection_model.h5\")\n",
    "print(\"Model saved as emotion_detection_model.h5\")"
   ],
   "id": "6486e2b0fb1785ba",
   "outputs": [
    {
     "name": "stdout",
     "output_type": "stream",
     "text": [
      "Model saved as emotion_detection_model.h5\n"
     ]
    }
   ],
   "execution_count": 12
  },
  {
   "metadata": {
    "ExecuteTime": {
     "end_time": "2025-07-01T05:45:05.281993Z",
     "start_time": "2025-07-01T05:45:04.533585Z"
    }
   },
   "cell_type": "code",
   "source": [
    "# Plot training history\n",
    "plt.figure(figsize=(14, 5))\n",
    "plt.subplot(1, 2, 1)\n",
    "plt.plot(history.history['loss'], label='Train')\n",
    "plt.plot(history.history['val_loss'], label='Val')\n",
    "plt.title('Loss')\n",
    "plt.legend()\n",
    "\n",
    "plt.subplot(1, 2, 2)\n",
    "plt.plot(history.history['accuracy'], label='Train')\n",
    "plt.plot(history.history['val_accuracy'], label='Val')\n",
    "plt.title('Accuracy')\n",
    "plt.legend()\n",
    "plt.tight_layout()\n",
    "plt.show()"
   ],
   "id": "571c525cf817d946",
   "outputs": [
    {
     "data": {
      "text/plain": [
       "<Figure size 1400x500 with 2 Axes>"
      ],
      "image/png": "[encoded data removed]"
     },
     "metadata": {},
     "output_type": "display_data"
    }
   ],
   "execution_count": 13
  }
 ],
 "metadata": {
  "kernelspec": {
   "display_name": "Python 3",
   "language": "python",
   "name": "python3"
  },
  "language_info": {
   "codemirror_mode": {
    "name": "ipython",
    "version": 2
   },
   "file_extension": ".py",
   "mimetype": "text/x-python",
   "name": "python",
   "nbconvert_exporter": "python",
   "pygments_lexer": "ipython2",
   "version": "2.7.6"
  }
 },
 "nbformat": 4,
 "nbformat_minor": 5
}
